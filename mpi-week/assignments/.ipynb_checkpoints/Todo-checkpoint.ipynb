{
 "cells": [
  {
   "cell_type": "markdown",
   "id": "0b2ae8ad",
   "metadata": {},
   "source": [
    "###  Exercise 1: Hello World"
   ]
  },
  {
   "cell_type": "markdown",
   "id": "5750495e",
   "metadata": {},
   "source": [
    "1. Write an MPI program which prints the message \"Hello World\"\n",
    "2. Modify your program so that each process prints out both its rank and the total number of processes P that the code is running on, i.e. the size of `MPI_COMM_WORLD`.\n",
    "3. Modify your program so that only a single controller process (e.g. rank 0) prints out a message (very useful when you run with hundreds of processes).\n",
    "4. What happens if you omit the final MPI procedure call in your program?"
   ]
  },
  {
   "cell_type": "code",
   "execution_count": 25,
   "id": "3845d247",
   "metadata": {},
   "outputs": [
    {
     "name": "stdout",
     "output_type": "stream",
     "text": [
      "Overwriting ex1.py\n"
     ]
    }
   ],
   "source": [
    "%%file ex1.py\n",
    "from mpi4py import MPI\n",
    "\n",
    "comm = MPI.COMM_WORLD\n",
    "rank = comm.Get_rank()\n",
    "size = comm.Get_size()\n",
    "\n",
    "#First question\n",
    "print(\"Hello World\", rank, size)\n",
    "\n",
    "#Second question\n",
    "print(\"Hello World with the rank {} and the process {}\".format(rank, size))\n",
    "\n",
    "#Third question\n",
    "if rank == 0:\n",
    "    \n",
    "    print(\"Hello with the rank {} and {} total process\".format(rank,size))\n"
   ]
  },
  {
   "cell_type": "code",
   "execution_count": 10,
   "id": "c9bce2b6",
   "metadata": {},
   "outputs": [
    {
     "name": "stdout",
     "output_type": "stream",
     "text": [
      "Hello with the rank 0 and 4 total process\r\n"
     ]
    }
   ],
   "source": [
    "!mpirun --oversubscribe -n 4 python3 ex1.py"
   ]
  },
  {
   "cell_type": "markdown",
   "id": "3ff36df4",
   "metadata": {},
   "source": [
    "### Exercise 2: Sharing Data"
   ]
  },
  {
   "cell_type": "markdown",
   "id": "a2ab8e62",
   "metadata": {},
   "source": [
    "Create a program that obtains an integer input from the terminal and distributes it to all the MPI processes.\n",
    "Each process must display its rank and the received value. \n",
    "Keep reading values until a negative integer is entered.\n",
    "**Output Example**\n",
    "```shell\n",
    "10\n",
    "Process 0 got 10\n",
    "Process 1 got 10"
   ]
  },
  {
   "cell_type": "code",
   "execution_count": 15,
   "id": "19831baf",
   "metadata": {},
   "outputs": [
    {
     "name": "stdout",
     "output_type": "stream",
     "text": [
      "Overwriting ex2.py\n"
     ]
    }
   ],
   "source": [
    "%%file ex2.py\n",
    "\n",
    "from mpi4py import MPI\n",
    "\n",
    "comm = MPI.COMM_WORLD\n",
    "rank = comm.Get_rank()\n",
    "\n",
    "if rank == 0:\n",
    "    value = int(input(\"Enter an integer : \"))\n",
    "else:\n",
    "    value = None\n",
    "    \n",
    "value = comm.bcast(value, root=0)\n",
    "    \n",
    "print(\"rank\", rank, \", value =\", value)\n"
   ]
  },
  {
   "cell_type": "code",
   "execution_count": null,
   "id": "8db5478e",
   "metadata": {},
   "outputs": [],
   "source": [
    "!mpirun --oversubscribe -n 4 python3 ex2.py"
   ]
  },
  {
   "cell_type": "markdown",
   "id": "e22e4e27",
   "metadata": {},
   "source": [
    "### Exercise 3 Sending in a ring (broadcast by ring)"
   ]
  },
  {
   "cell_type": "code",
   "execution_count": 23,
   "id": "961eb22e",
   "metadata": {},
   "outputs": [
    {
     "name": "stdout",
     "output_type": "stream",
     "text": [
      "Overwriting ex3.py\n"
     ]
    }
   ],
   "source": [
    "%%file ex3.py\n",
    "\n",
    "from mpi4py import MPI\n",
    "\n",
    "comm = MPI.COMM_WORLD\n",
    "rank = comm.Get_rank()\n",
    "size = comm.Get_size()\n",
    "\n",
    "value = 0\n",
    "while value >= 0:\n",
    "    if rank == 0:\n",
    "        value = int(input(\"Enter an integer\" :))\n",
    "        comm.send(value, dest=rank+1)\n",
    "    else:\n",
    "        value = comm.recv(source=rank-1)\n",
    "        if rank < size - 1:\n",
    "            if value < 0 : value-=rank\n",
    "            comm.send(value, dest=rank+1)\n",
    "    if value<0:\n",
    "        break\n",
    "    print(\"rank\", rank, \", value =\", value)"
   ]
  },
  {
   "cell_type": "code",
   "execution_count": null,
   "id": "e0246440",
   "metadata": {},
   "outputs": [],
   "source": [
    "!mpirun --oversubscribe -n 4 python3 ex3.py"
   ]
  },
  {
   "cell_type": "markdown",
   "id": "2ab1d833",
   "metadata": {},
   "source": [
    "### Exercise 4: Scattering Matrix"
   ]
  },
  {
   "cell_type": "code",
   "execution_count": 4,
   "id": "ceb90e9e",
   "metadata": {},
   "outputs": [
    {
     "name": "stdout",
     "output_type": "stream",
     "text": [
      "Overwriting ex4.py\n"
     ]
    }
   ],
   "source": [
    "%%file ex4.py\n",
    "from mpi4py import MPI\n",
    "\n",
    "cols = 4\n",
    "rows = 4\n",
    "\n",
    "comm = MPI.COMM_WORLD\n",
    "size = comm.Get_size()\n",
    "rank = comm.Get_rank()\n",
    "\n",
    "a = None\n",
    "\n",
    "nprows = 2\n",
    "npcols = 2\n",
    "brows = rows // nprows\n",
    "bcols = cols // npcols\n",
    "\n",
    "if rank == 0:\n",
    "    a = bytearray(range(rows*cols))\n",
    "\n",
    "if size != nprows*npcols:\n",
    "    if rank == 0:\n",
    "        print(f\"Error: number of PEs {p} != {nprows} x {npcols}\")\n",
    "    comm.Abort()\n",
    "\n",
    "b = bytearray(brows * bcols)\n",
    "\n",
    "blocktype2 = MPI.CHAR.Create_vector(brows, bcols, cols)\n",
    "blocktype2.Commit()\n",
    "\n",
    "blocktype = blocktype2.Create_resized(0, 1)\n",
    "blocktype.Commit()\n",
    "\n",
    "disps = [i * cols * brows + j * bcols for i in range(nprows) for j in range(npcols)]\n",
    "counts = [1] * (nprows * npcols)\n",
    "\n",
    "comm.Scatterv([a, counts, disps, blocktype], b)\n",
    "\n",
    "for val in range(size):\n",
    "    if val == rank:\n",
    "        print(f\"Rank = {rank}\")\n",
    "        if rank == 0:\n",
    "            print(\"Matrix A:\")\n",
    "            for i in range(rows):\n",
    "                for j in range(cols):\n",
    "                    print(f\"{a[i*cols+j]:3d}\", end=\" \")\n",
    "                print(\"\")\n",
    "        print(\"Submatrix process:\")\n",
    "        for i in range(brows):\n",
    "            for j in range(bcols):\n",
    "                print(f\"{b[i*bcols+j]:3d}\", end=\" \")\n",
    "            print(\"\")\n",
    "        print(\"\")\n",
    "\n",
    "    comm.Barrier()\n",
    "\n",
    "blocktype2.Free()\n",
    "blocktype.Free()\n",
    "\n",
    "MPI.Finalize()\n"
   ]
  },
  {
   "cell_type": "code",
   "execution_count": 5,
   "id": "c1a48904",
   "metadata": {},
   "outputs": [
    {
     "name": "stdout",
     "output_type": "stream",
     "text": [
      "Rank = 0\r\n",
      "Matrix A:\r\n",
      "  0   1   2   3 \r\n",
      "  4   5   6   7 \r\n",
      "  8   9  10  11 \r\n",
      " 12  13  14  15 \r\n",
      "Submatrix process:\r\n",
      "  0   1 \r\n",
      "  4   5 \r\n",
      "\r\n",
      "Rank = 1\r\n",
      "Submatrix process:\r\n",
      "  2   3 \r\n",
      "  6   7 \r\n",
      "\r\n",
      "Rank = 2\r\n",
      "Submatrix process:\r\n",
      "  8   9 \r\n",
      " 12  13 \r\n",
      "\r\n",
      "Rank = 3\r\n",
      "Submatrix process:\r\n",
      " 10  11 \r\n",
      " 14  15 \r\n",
      "\r\n"
     ]
    }
   ],
   "source": [
    "!mpirun --oversubscribe -n 4 python3 ex4.py"
   ]
  },
  {
   "cell_type": "markdown",
   "id": "af6010cf",
   "metadata": {},
   "source": [
    "### Exercise 5 Matrix vector product"
   ]
  },
  {
   "cell_type": "code",
   "execution_count": 18,
   "id": "cb835a85",
   "metadata": {},
   "outputs": [
    {
     "name": "stdout",
     "output_type": "stream",
     "text": [
      "Overwriting ex5.py\n"
     ]
    }
   ],
   "source": [
    "%%file ex5.py\n",
    "\n",
    "import numpy as np\n",
    "from scipy.sparse import lil_matrix\n",
    "from numpy.random import rand, seed\n",
    "from numba import njit\n",
    "from mpi4py import MPI\n",
    "\n",
    "\n",
    "\n",
    "comm = MPI.COMM_WORLD\n",
    "size = comm.Get_size()\n",
    "rank = comm.Get_rank()\n",
    "\n",
    "seed(42)\n",
    "\n",
    "def matrixVectorMult(A, b, x):\n",
    "    \n",
    "    row, col = A.shape\n",
    "    for i in range(row):\n",
    "        a = A[i]\n",
    "        for j in range(col):\n",
    "            x[i] += a[j] * b[j]\n",
    "\n",
    "    return 0\n",
    "\n",
    "value = 1000\n",
    "val = value//size\n",
    "\n",
    "\n",
    "if rank == 0:\n",
    "    A = lil_matrix((value, value))\n",
    "    A[0, :100] = rand(100)\n",
    "    A[1, 100:200] = A[0, :100]\n",
    "    A.setdiag(rand(value))\n",
    "    A = A.toarray()\n",
    "    b = rand(value)\n",
    "else :\n",
    "    A = None\n",
    "    b = None\n",
    "\n",
    "\n",
    "matrix = np.zeros((val, value))\n",
    "comm.Scatter(A, matrix, root=0)\n",
    "\n",
    "b=comm.bcast(b,root=0)\n",
    "\n",
    "valx = np.zeros(val)\n",
    "\n",
    "\n",
    "start = MPI.Wtime()\n",
    "matrixVectorMult(matrix, b, valx)\n",
    "stop = MPI.Wtime()\n",
    "if rank == 0:\n",
    "    print(\"CPU time of matrix multiplication is \", (stop - start)*1000)\n",
    "\n",
    "sendcounts = np.array(comm.gather(len(valx),root=0))\n",
    "\n",
    "if rank == 0: \n",
    "    X = np.zeros(sum(sendcounts),dtype=np.double)\n",
    "\n",
    "else :\n",
    "    X = None\n",
    "\n",
    "if rank == 0:\n",
    "    print(len(X))\n",
    "\n",
    "comm.Gatherv(valx, recvbuf=(X, sendcounts, MPI.DOUBLE), root=0)\n",
    "\n",
    "if rank == 0 :\n",
    "    X_ = A.dot(b)\n",
    "    print(\"The result of the product A*b using dot is :\", np.max(X_ - X))\n",
    "\n",
    "    "
   ]
  },
  {
   "cell_type": "code",
   "execution_count": 21,
   "id": "02ad09af",
   "metadata": {},
   "outputs": [
    {
     "name": "stdout",
     "output_type": "stream",
     "text": [
      "CPU time of matrix multiplication is  112.626526\n",
      "1000\n",
      "The result of the product A*b using dot is : 1.4210854715202004e-14\n"
     ]
    }
   ],
   "source": [
    "!mpirun --oversubscribe -n 4 python3 ex5.py"
   ]
  },
  {
   "cell_type": "code",
   "execution_count": 22,
   "id": "a3becd4f",
   "metadata": {},
   "outputs": [
    {
     "data": {
      "text/plain": [
       "Text(0.5, 1.0, 'the scalability')"
      ]
     },
     "execution_count": 22,
     "metadata": {},
     "output_type": "execute_result"
    },
    {
     "data": {
      "image/png": "[encoded data removed]",
      "text/plain": [
       "<Figure size 640x480 with 1 Axes>"
      ]
     },
     "metadata": {},
     "output_type": "display_data"
    }
   ],
   "source": [
    "import matplotlib.pyplot as plt\n",
    "CPU_time=[319.79, 161.50, 112.62]\n",
    "plt.plot([1,2,4],CPU_time)\n",
    "plt.title(\"the scalability\")"
   ]
  },
  {
   "cell_type": "markdown",
   "id": "27512799",
   "metadata": {},
   "source": [
    "### Exercise 6: Pi calculation"
   ]
  },
  {
   "cell_type": "code",
   "execution_count": 24,
   "id": "6b5f8062",
   "metadata": {},
   "outputs": [
    {
     "name": "stdout",
     "output_type": "stream",
     "text": [
      "Overwriting ex6.py\n"
     ]
    }
   ],
   "source": [
    "%%file ex6.py\n",
    "\n",
    "import random \n",
    "import timeit\n",
    "from mpi4py import MPI\n",
    "\n",
    "comm = MPI.COMM_WORLD\n",
    "rank = comm.Get_rank()\n",
    "size = comm.Get_size()\n",
    "\n",
    "interval= 500\n",
    "nbi=int(interval/size)+(size==(rank+1))*(interval%size)\n",
    "\n",
    "def compute_points():\n",
    "    \n",
    "    random.seed(42)  \n",
    "    \n",
    "    circle_points= 0\n",
    "\n",
    "    for i in range(nbi): \n",
    "          \n",
    "        rand_x= random.uniform(-1, 1) \n",
    "        rand_y= random.uniform(-1, 1) \n",
    "      \n",
    "        origin_dist= rand_x**2 + rand_y**2\n",
    "      \n",
    "        if origin_dist<= 1: \n",
    "            circle_points+= 1\n",
    "\n",
    "    return circle_points\n",
    "\n",
    "start = timeit.default_timer()\n",
    "circle_points = compute_points()\n",
    "total_circle_points=comm.reduce(circle_points,op=MPI.SUM, root=0)\n",
    "end = timeit.default_timer()\n",
    "\n",
    "\n",
    "if rank==0:\n",
    "    print(\"Circle points number :\",circle_points)\n",
    "    pi = 4* total_circle_points/ interval\n",
    "    print(\"Pi value=\", pi, \"obtained in :\",end-start, \"seconds\") \n"
   ]
  },
  {
   "cell_type": "code",
   "execution_count": 25,
   "id": "4f4cac77",
   "metadata": {},
   "outputs": [
    {
     "name": "stdout",
     "output_type": "stream",
     "text": [
      "Circle points number : 100\r\n",
      "Pi value= 3.2 obtained in : 0.0034768269979394972 seconds\r\n"
     ]
    }
   ],
   "source": [
    "!mpirun --oversubscribe -n 4 python3 ex6.py"
   ]
  },
  {
   "cell_type": "code",
   "execution_count": null,
   "id": "971c85e6",
   "metadata": {},
   "outputs": [],
   "source": []
  }
 ],
 "metadata": {
  "kernelspec": {
   "display_name": "Python 3 (ipykernel)",
   "language": "python",
   "name": "python3"
  },
  "language_info": {
   "codemirror_mode": {
    "name": "ipython",
    "version": 3
   },
   "file_extension": ".py",
   "mimetype": "text/x-python",
   "name": "python",
   "nbconvert_exporter": "python",
   "pygments_lexer": "ipython3",
   "version": "3.10.6"
  }
 },
 "nbformat": 4,
 "nbformat_minor": 5
}
