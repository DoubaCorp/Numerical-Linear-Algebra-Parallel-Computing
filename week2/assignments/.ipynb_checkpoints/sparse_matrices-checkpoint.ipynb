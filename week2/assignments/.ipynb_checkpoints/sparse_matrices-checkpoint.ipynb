{
 "cells": [
  {
   "cell_type": "markdown",
   "id": "aea03da3",
   "metadata": {},
   "source": [
    "In this assignement, feel free to use the `sparse` module from `scipy`."
   ]
  },
  {
   "cell_type": "markdown",
   "id": "2df42bcc",
   "metadata": {},
   "source": [
    "Use the cell below for your imports."
   ]
  },
  {
   "cell_type": "code",
   "execution_count": 15,
   "id": "e9644e55",
   "metadata": {},
   "outputs": [],
   "source": [
    "import numpy as np\n",
    "import scipy.sparse\n",
    "from scipy.sparse import csr_matrix\n",
    "from scipy.sparse import coo_matrix\n",
    "from scipy.sparse.linalg import spsolve"
   ]
  },
  {
   "cell_type": "markdown",
   "id": "8948a816",
   "metadata": {},
   "source": [
    "implement the function `mat_mul_coo` that takes two sparse matrices in `coo` and returns their product."
   ]
  },
  {
   "cell_type": "code",
   "execution_count": 2,
   "id": "6047ee0e",
   "metadata": {},
   "outputs": [],
   "source": [
    "def mat_mul_coo(M1,M2):\n",
    "    \n",
    "    data1, row1, col1 = M1\n",
    "    data2, row2, col2 = M2\n",
    "    \n",
    "    spcoo1 = coo_matrix((data1, (row1, col1)))\n",
    "    spcoo2 = coo_matrix((data1, (row2, col2)))\n",
    "    \n",
    "    multi_coo = spcoo1.dot(spcoo2)\n",
    "    \n",
    "    return (multi_coo.todense())\n"
   ]
  },
  {
   "cell_type": "code",
   "execution_count": 3,
   "id": "41916128",
   "metadata": {},
   "outputs": [
    {
     "name": "stdout",
     "output_type": "stream",
     "text": [
      "[[ 5  6  0  0]\n",
      " [ 6  9  0 16]]\n"
     ]
    }
   ],
   "source": [
    "M1 = ([1, 2, 3, 4], [0, 0, 1, 1], [0, 1, 1, 2])\n",
    "M2 = ([1, 2, 3, 4], [0, 1, 1, 2], [0, 0, 1, 3])\n",
    "\n",
    "sparse_matrix_coo = mat_mul_coo(M1, M2)\n",
    "print(sparse_matrix_coo)"
   ]
  },
  {
   "cell_type": "markdown",
   "id": "4a626dec",
   "metadata": {},
   "source": [
    "implement the function `mat_mul_csr` that takes two sparse matrices in `csr` format and returns their product."
   ]
  },
  {
   "cell_type": "code",
   "execution_count": 10,
   "id": "2afa82ad",
   "metadata": {},
   "outputs": [],
   "source": [
    "def mat_mul_csr(M1, M2):\n",
    "    \n",
    "    data1, col_indice1, row_pointers1 = M1\n",
    "    data2, col_indice2, row_pointers2 = M2\n",
    "    \n",
    "    \n",
    "    spcsr1= csr_matrix((data1, col_indice1, row_pointers1))\n",
    "    spcsr2 = csr_matrix((data2, col_indice2, row_pointers2))\n",
    "    \n",
    "    multi_csr = np.dot(spcsr1.toarray(),spcsr2.toarray())\n",
    "    \n",
    "    return (multi_csr)\n"
   ]
  },
  {
   "cell_type": "code",
   "execution_count": 11,
   "id": "10bd5465",
   "metadata": {},
   "outputs": [
    {
     "name": "stdout",
     "output_type": "stream",
     "text": [
      "[[ 3  6  0]\n",
      " [ 0  0  0]\n",
      " [ 0 21  0]]\n"
     ]
    }
   ],
   "source": [
    "M1 = ([1, 2, 3, 4, 5], [0, 0, 1, 1, 2], [0, 2, 2, 4])\n",
    "M2 = ([1, 2, 3, 4], [0, 1, 1, 2], [0, 2, 3, 4])\n",
    "\n",
    "sparse_matrix_csr = mat_mul_csr(M1, M2)\n",
    "print(sparse_matrix_csr)"
   ]
  },
  {
   "cell_type": "markdown",
   "id": "9592a90b",
   "metadata": {},
   "source": [
    "implement a function `solve_lin_sys` that takes a matrix `A` in `csr` format and a vector `b` as a numpy array and solves the system `Ax = b`."
   ]
  },
  {
   "cell_type": "code",
   "execution_count": 30,
   "id": "d32681c8",
   "metadata": {},
   "outputs": [],
   "source": [
    "def solve_lin_sys(A, b):\n",
    "    \n",
    "    data, col_indice, row_pointers = A\n",
    "    \n",
    "    matrixcsr = csr_matrix((data, col_indice, row_pointers))\n",
    "    \n",
    "    x = spsolve(matrixcsr, b)\n",
    "    \n",
    "    return x\n"
   ]
  },
  {
   "cell_type": "code",
   "execution_count": null,
   "id": "286eeed3",
   "metadata": {},
   "outputs": [],
   "source": [
    "A = ([1, 2, 3, 4, 5, 6], [0, 1, 1, 2, 2, 3], [0, 2, 3, 6])\n",
    "b = np.array([6, 9, 12])\n",
    "\n",
    "x = solve_lin_sys(A, b)\n",
    "print(x)"
   ]
  },
  {
   "cell_type": "code",
   "execution_count": null,
   "id": "01ce7240",
   "metadata": {},
   "outputs": [],
   "source": []
  },
  {
   "cell_type": "code",
   "execution_count": null,
   "id": "21716b5b",
   "metadata": {},
   "outputs": [],
   "source": []
  }
 ],
 "metadata": {
  "kernelspec": {
   "display_name": "Python 3 (ipykernel)",
   "language": "python",
   "name": "python3"
  },
  "language_info": {
   "codemirror_mode": {
    "name": "ipython",
    "version": 3
   },
   "file_extension": ".py",
   "mimetype": "text/x-python",
   "name": "python",
   "nbconvert_exporter": "python",
   "pygments_lexer": "ipython3",
   "version": "3.10.6"
  }
 },
 "nbformat": 4,
 "nbformat_minor": 5
}
