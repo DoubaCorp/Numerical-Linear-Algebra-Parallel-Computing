{
 "cells": [
  {
   "cell_type": "markdown",
   "id": "c1128903",
   "metadata": {},
   "source": [
    "# BLAS ASSIGNMENT"
   ]
  },
  {
   "cell_type": "markdown",
   "id": "26afb58d",
   "metadata": {},
   "source": [
    "Use the cell below for all your imports."
   ]
  },
  {
   "cell_type": "code",
   "execution_count": 2,
   "id": "d72a4a74",
   "metadata": {},
   "outputs": [],
   "source": [
    "import numpy as np\n",
    "from scipy.linalg.blas import dgemv, ddot, dnrm2"
   ]
  },
  {
   "cell_type": "markdown",
   "id": "91919505",
   "metadata": {},
   "source": [
    "Create a matrix and a vector using NumPy.Their dtype should be double."
   ]
  },
  {
   "cell_type": "code",
   "execution_count": null,
   "id": "f6837913",
   "metadata": {},
   "outputs": [],
   "source": [
    "A = np.array([[1, 2, 3], [4, 5, 6], [7, 8, 9]], dtype=np.double)\n",
    "x = np.array([1, 2, 3], dtype=np.double)"
   ]
  },
  {
   "cell_type": "markdown",
   "id": "65f452f9",
   "metadata": {},
   "source": [
    "Use BLAS functions to perform matrix-vector multiplication"
   ]
  },
  {
   "cell_type": "code",
   "execution_count": null,
   "id": "0f77ebcf",
   "metadata": {},
   "outputs": [],
   "source": [
    "y = np.zeros_like(x)\n",
    "alpha = 1.0\n",
    "beta = 0.0\n",
    "dgemv(alpha, A, x, beta, y)\n",
    "print(y)"
   ]
  },
  {
   "cell_type": "markdown",
   "id": "e4414420",
   "metadata": {},
   "source": [
    "Create two new vectors and calculate their dot product using BLAS functions."
   ]
  },
  {
   "cell_type": "code",
   "execution_count": null,
   "id": "69354f50",
   "metadata": {},
   "outputs": [],
   "source": [
    "a = np.array([1, 2, 3], dtype=np.double)\n",
    "b = np.array([4, 5, 6], dtype=np.double)\n",
    "result = ddot(a, b)\n",
    "print(result)"
   ]
  },
  {
   "cell_type": "markdown",
   "id": "288bcaf5",
   "metadata": {},
   "source": [
    "Compute the L2 norm (Euclidean distance) of a vector using BLAS functions"
   ]
  },
  {
   "cell_type": "code",
   "execution_count": null,
   "id": "82d0652a",
   "metadata": {},
   "outputs": [],
   "source": [
    "a = np.array([1, 2, 3], dtype=np.double)\n",
    "norm = dnrm2(a)\n",
    "print(norm)"
   ]
  },
  {
   "cell_type": "markdown",
   "id": "523a141c",
   "metadata": {},
   "source": [
    "Create a 5x5 symmetric matrix and calculate its eigenvalues and eigenvectors using BLAS functions"
   ]
  },
  {
   "cell_type": "code",
   "execution_count": null,
   "id": "46063527",
   "metadata": {},
   "outputs": [],
   "source": [
    "A = np.array([[1, 2, 3], [2, 4, 5], [3, 5, 6]], dtype=np.double)\n",
    "w, v = dsyev(A)\n",
    "print(\"Eigenvalues:\", w)\n",
    "print(\"Eigenvectors:\", v)"
   ]
  },
  {
   "cell_type": "markdown",
   "id": "b1bfaf15",
   "metadata": {},
   "source": [
    "Given the following matrix `A` and vector `v`: "
   ]
  },
  {
   "cell_type": "code",
   "execution_count": null,
   "id": "2364d2a9",
   "metadata": {},
   "outputs": [],
   "source": [
    "A = np.array([[1, 2, 3], [4, 5, 6], [7, 8, 9]], dtype=np.double)\n",
    "b = np.array([1, 2, 3], dtype=np.double)"
   ]
  },
  {
   "cell_type": "markdown",
   "id": "a2a7d962",
   "metadata": {},
   "source": [
    "Solve the system `Ax = b` using the LU decomposition method and BLAS functions"
   ]
  },
  {
   "cell_type": "code",
   "execution_count": null,
   "id": "3cf312a1",
   "metadata": {},
   "outputs": [],
   "source": [
    "A = np.array([[1, 2, 3], [4, 5, 6], [7, 8, 9]], dtype=np.double)\n",
    "b = np.array([1, 2, 3], dtype=np.double)\n",
    "lu, piv = dgetrf(A)\n",
    "x = dgetri(lu, piv, b)\n",
    "print(x)"
   ]
  },
  {
   "cell_type": "markdown",
   "id": "efa91e5b",
   "metadata": {},
   "source": [
    "#### Describe solution 1\n",
    "\n",
    "The count_divisors(n) function is designed to determine the number of divisors that an integer n has. It first sets the count variable to zero and the d variable to one. The function then utilizes a while loop to iterate over all integers between 1 and n (inclusive), checking if each integer evenly divides n using the modulo operator. If an integer divides n without a remainder, the count variable is incremented. At the end of the iteration, the function returns the count value."
   ]
  },
  {
   "cell_type": "code",
   "execution_count": 3,
   "id": "df47a0ba",
   "metadata": {},
   "outputs": [],
   "source": [
    "def count_divisors(n):\n",
    "    count = 0\n",
    "    d = 1\n",
    "    while d <= n :\n",
    "        if n % d == 0 :\n",
    "            count += 1\n",
    "        d += 1\n",
    "    return count"
   ]
  },
  {
   "cell_type": "code",
   "execution_count": 5,
   "id": "461e08fe",
   "metadata": {},
   "outputs": [
    {
     "name": "stdout",
     "output_type": "stream",
     "text": [
      "CPU times: total: 859 ms\n",
      "Wall time: 860 ms\n"
     ]
    },
    {
     "data": {
      "text/plain": [
       "64"
      ]
     },
     "execution_count": 5,
     "metadata": {},
     "output_type": "execute_result"
    }
   ],
   "source": [
    "%time count_divisors(10000000)"
   ]
  },
  {
   "cell_type": "markdown",
   "id": "efcb8360",
   "metadata": {},
   "source": [
    "#### Describe solution 2\n",
    "\n",
    "The count_divisors_(n) function is designed to count the number of divisors that an integer n has. It first initializes the count variable to zero and the d variable to one. The function then utilizes a while loop to iterate over all integers between 1 and the square root of n (inclusive), which is represented by the condition d*d <= n.\n",
    "\n",
    "For each integer d, the function checks if it is a divisor of n using the modulo operator. If d is a divisor of n, it increments the count variable by 1. Moreover, if n divided by d is not equal to d, then n has another divisor n/d, so the function increments count by 2."
   ]
  },
  {
   "cell_type": "code",
   "execution_count": 6,
   "id": "1ee29473",
   "metadata": {},
   "outputs": [],
   "source": [
    "def count_divisors_(n):\n",
    "    count = 0\n",
    "    d = 1\n",
    "    while d*d <= n :\n",
    "        if n % d == 0 :\n",
    "            count += 1 if n / d == d else 2\n",
    "        d += 1\n",
    "    return count"
   ]
  },
  {
   "cell_type": "code",
   "execution_count": 7,
   "id": "6d41a0ac",
   "metadata": {},
   "outputs": [
    {
     "name": "stdout",
     "output_type": "stream",
     "text": [
      "CPU times: total: 891 ms\n",
      "Wall time: 869 ms\n"
     ]
    },
    {
     "data": {
      "text/plain": [
       "64"
      ]
     },
     "execution_count": 7,
     "metadata": {},
     "output_type": "execute_result"
    }
   ],
   "source": [
    "%time count_divisors(10000000)"
   ]
  },
  {
   "cell_type": "markdown",
   "id": "cdc949dc",
   "metadata": {},
   "source": [
    "###### Comparaison\n",
    "\n",
    "We have observed that the two programs exhibit nearly identical execution times for small values of n. However, as the value of n increases, a significant difference in execution time between the two programs becomes apparent."
   ]
  },
  {
   "cell_type": "markdown",
   "id": "6ab3591c",
   "metadata": {},
   "source": [
    "##### The number of operations executed by each of the programs for different values of n and generalize for any n\n",
    "\n",
    "The first solution executes 2n operations.\n",
    "The second solution performs roughly 2 times the square root of n operations for non-perfect squares and perfect squares alike."
   ]
  },
  {
   "cell_type": "markdown",
   "id": "282f84a3",
   "metadata": {},
   "source": [
    "##### Big-O notation"
   ]
  },
  {
   "cell_type": "markdown",
   "id": "85da2aa7",
   "metadata": {},
   "source": [
    "1-\n",
    "\n",
    "In order to prove that $T(n) = O(n^3)$, we must demonstrate the existence of positive constants $c$ and $n_0$ such that $T(n) \\leq cn^3$ for all $n \\geq n_0$.\n",
    "\n",
    "We can set $c = 4$ and $n_0 = 1$. For all $n \\geq n_0 = 1$, we have:\n",
    "\n",
    "$$T(n) = 3n^3 + 2n^2 + \\frac{1}{2}n + 7$$\n",
    "\n",
    "Using the fact that $n^3 \\geq n^2$ and $n^3 \\geq \\frac{1}{2}n$ for all $n \\geq 1$, we can simplify:\n",
    "\n",
    "\\begin{align*}\n",
    "T(n) &\\leq 3n^3 + 2n^3 + \\frac{1}{2}n^3 + 7n^3 \\\n",
    "&= \\frac{15}{2}n^3 + 7 \\\n",
    "&\\leq 4n^3 \\quad \\text{(since } n \\geq 1 \\text{)}\n",
    "\\end{align*}\n",
    "\n",
    "Therefore, we have demonstrated that $T(n) \\leq cn^3$ for all $n \\geq n_0$, where $c = 4$ and $n_0 = 1$, and we can conclude that $T(n) = O(n^3)$."
   ]
  },
  {
   "cell_type": "markdown",
   "id": "1d4a9ee1",
   "metadata": {},
   "source": [
    "2-\n",
    "\n",
    "We aim to prove that for any integer $k \\geq 1$, the function $n^k$ is not of the order $O(n^{k-1})$.\n",
    "\n",
    "Suppose for the sake of contradiction that $n^k = O(n^{k-1})$. Then, there exist positive constants $c$ and $n_0$ such that for all $n \\geq n_0$, we have $n^k \\leq c \\cdot n^{k-1}$.\n",
    "\n",
    "Dividing both sides by $n^{k-1}$, we obtain $n \\leq c$. But this is not possible, as we can choose a sufficiently large value of $n$ such that $n > c$, contradicting our assumption.\n",
    "\n",
    "Hence, we conclude that $n^k$ is not $O(n^{k-1})$ for any integer $k \\geq 1$."
   ]
  },
  {
   "cell_type": "markdown",
   "id": "a20cb6dd",
   "metadata": {},
   "source": [
    "##### Merge sort"
   ]
  },
  {
   "cell_type": "code",
   "execution_count": 10,
   "id": "38e44eda",
   "metadata": {},
   "outputs": [],
   "source": [
    "def merge(A, B):\n",
    "    i, j = 0, 0\n",
    "    C = []\n",
    "    \n",
    "    while i < len(A) and j < len(B):\n",
    "        if A[i] <= B[j]:\n",
    "            C.append(A[i])\n",
    "            i += 1\n",
    "        else:\n",
    "            C.append(B[j])\n",
    "            j += 1\n",
    "    \n",
    "    while i < len(A):\n",
    "        C.append(A[i])\n",
    "        i += 1\n",
    "    \n",
    "    while j < len(B):\n",
    "        C.append(B[j])\n",
    "        j += 1\n",
    "    \n",
    "    return C"
   ]
  },
  {
   "cell_type": "code",
   "execution_count": 13,
   "id": "1b926dec",
   "metadata": {},
   "outputs": [
    {
     "data": {
      "text/plain": [
       "[1, 3, 4, 6, 7, 9, 10, 12, 13, 15]"
      ]
     },
     "execution_count": 13,
     "metadata": {},
     "output_type": "execute_result"
    }
   ],
   "source": [
    "A = np.array([1, 4, 7, 10, 13])\n",
    "B = np.array([3, 6, 9, 12, 15])\n",
    "merge(A, B)"
   ]
  },
  {
   "cell_type": "markdown",
   "id": "064c7c05",
   "metadata": {},
   "source": [
    "#### Analyse the complexity of your function using Big-O notation"
   ]
  },
  {
   "cell_type": "markdown",
   "id": "22754072",
   "metadata": {},
   "source": [
    "The complexity of the merge function depends on the size of the input arrays A and B. In the worst case, when the arrays have the same size n, each element needs to be compared with every other element, which significantly increases the complexity of the function.\n",
    "\n",
    "The while loop that merges the arrays has a complexity of O(n), as it needs to examine every element in both arrays. The two while loops that add the remaining elements from A and B also have a complexity of O(n), as they need to iterate through the remaining elements in the arrays.\n",
    "\n",
    "Therefore, the total complexity of the merge function is O(n), where n is the size of the input arrays. This means that the execution time of the merge function grows linearly with the number of elements in the input arrays."
   ]
  },
  {
   "cell_type": "markdown",
   "id": "bfb1e598",
   "metadata": {},
   "source": [
    "### The master method"
   ]
  },
  {
   "cell_type": "markdown",
   "id": "ca0172a9",
   "metadata": {},
   "source": [
    "1-The master method analyse the complexity of merge sort.\n",
    "Merge sort time complexity $T(n) = O(n^k*log n) = O(n^1*log n) = O(nlog n)$\n",
    "\n",
    "2 The master method analyse the complexity of binary search\n",
    "Merge sort time complexity $T(n) = O(n^k*log n) = O(n^0*log n) = O(log n)$"
   ]
  },
  {
   "cell_type": "markdown",
   "id": "01afef80",
   "metadata": {},
   "source": [
    "### Matrix multiplication"
   ]
  },
  {
   "cell_type": "code",
   "execution_count": 14,
   "id": "3d3022f7",
   "metadata": {},
   "outputs": [],
   "source": [
    "# Write a func.on using python3 that mul.ply two matrices A,B (without the use of numpy or any external library).\n",
    "\n",
    "def matrix_multiplication(A, B):\n",
    "    m, n = A.shape\n",
    "    nB = B.shape[1]\n",
    "    res = np.zeros((m, nB))\n",
    "    for i in range(m):\n",
    "        for j in range(nB):\n",
    "            for k in range(n):\n",
    "                res[i][j] += A[i][k] * B[k][j]\n",
    "    return res"
   ]
  },
  {
   "cell_type": "markdown",
   "id": "82a4bc97",
   "metadata": {},
   "source": [
    "The complexity of our algorithm (using big-O notation) is $O(n^3)$ because there are three nested loops."
   ]
  },
  {
   "cell_type": "code",
   "execution_count": null,
   "id": "fc154b63",
   "metadata": {},
   "outputs": [],
   "source": [
    "# Write the same func.on in C\n",
    "\n",
    "#include <stdio.h>\n",
    "#include <stdlib.h>\n",
    "\n",
    "int** matrix_multiplication(int** A, int** B, int m, int n, int nB) {\n",
    "    int i, j, k;\n",
    "    int** res = (int**)malloc(m * sizeof(int*));\n",
    "    for (i = 0; i < m; i++) {\n",
    "        res[i] = (int*)malloc(nB * sizeof(int));\n",
    "        for (j = 0; j < nB; j++) {\n",
    "            res[i][j] = 0;\n",
    "            for (k = 0; k < n; k++) {\n",
    "                res[i][j] += A[i][k] * B[k][j];\n",
    "            }\n",
    "        }\n",
    "    }\n",
    "    return res;\n",
    "}"
   ]
  },
  {
   "cell_type": "code",
   "execution_count": null,
   "id": "9e94d1a9",
   "metadata": {},
   "outputs": [],
   "source": [
    "# Optimize this multiplication and describe each step of your optimisation*\n",
    "\n",
    "def matrix_multiplication_optimized(A, B):\n",
    "    m, n = len(A), len(A[0])\n",
    "    nB = len(B[0])\n",
    "    BT = list(map(list, zip(*B)))  # transpose matrix B\n",
    "    res = [[0] * nB for _ in range(m)]\n",
    "    \n",
    "    for i in range(0, m, 4):  # loop unrolling with step 4\n",
    "        for j in range(0, nB, 4):\n",
    "            for k in range(0, n, 4):\n",
    "                # manually perform loop iterations\n",
    "                res[i][j] += A[i][k] * BT[j][k]\n",
    "                res[i][j+1] += A[i][k] * BT[j+1][k]\n",
    "                res[i][j+2] += A[i][k] * BT[j+2][k]\n",
    "                res[i][j+3] += A[i][k] * BT[j+3][k]\n",
    "                res[i+1][j] += A[i+1][k] * BT[j][k]\n",
    "                res[i+1][j+1] += A[i+1][k] * BT[j+1][k]\n",
    "                res[i+1][j+2] += A[i+1][k] * BT[j+2][k]\n",
    "                res[i+1][j+3] += A[i+1][k] * BT[j+3][k]\n",
    "                res[i+2][j] += A[i+2][k] * BT[j][k]\n",
    "                res[i+2][j+1] += A[i+2][k] * BT[j+1][k]\n",
    "                res[i+2][j+2] += A[i+2][k] * BT[j+2][k]\n",
    "                res[i+2][j+3] += A[i+2][k] * BT[j+3][k]\n",
    "                res[i+3][j] += A[i+3][k] * BT[j][k]\n",
    "                res[i+3][j+1] += A[i+3][k] * BT[j+1][k]\n",
    "                res[i+3][j+2] += A[i+3][k] * BT[j+2][k]\n",
    "                res[i+3][j+3] += A[i+3][k] * BT[j+3][k]\n",
    "                \n",
    "    return res\n"
   ]
  },
  {
   "cell_type": "markdown",
   "id": "73fba8dc",
   "metadata": {},
   "source": [
    "By utilizing loop unrolling with a step size of 4, we have improved the performance in this optimized version. This involves manually executing 4 iterations of the innermost loop at once. Additionally, we have enhanced the cache performance by transposing matrix B, which makes accessing elements in a row-major order more cache-friendly. Furthermore, we have replaced the append() method with indexing to update the elements of the resulting matrix. These optimizations can result in substantial performance gains, particularly for larger matrices."
   ]
  },
  {
   "cell_type": "markdown",
   "id": "099fa112",
   "metadata": {},
   "source": [
    "### Quiz"
   ]
  },
  {
   "cell_type": "markdown",
   "id": "a874cea0",
   "metadata": {},
   "source": [
    "1) O(n) for this following fragment of code"
   ]
  },
  {
   "cell_type": "code",
   "execution_count": null,
   "id": "396182b1",
   "metadata": {},
   "outputs": [],
   "source": [
    "C = 10 \n",
    "B = 0\n",
    "for i in range (n):\n",
    "    B += i*C"
   ]
  },
  {
   "cell_type": "markdown",
   "id": "7d669f9f",
   "metadata": {},
   "source": [
    " 2) $O(log_k n)$ for this following fragment of code"
   ]
  },
  {
   "cell_type": "code",
   "execution_count": null,
   "id": "033e381c",
   "metadata": {},
   "outputs": [],
   "source": [
    "i = 0\n",
    "while i < n :\n",
    "    i *= k"
   ]
  },
  {
   "cell_type": "markdown",
   "id": "52fbba38",
   "metadata": {},
   "source": [
    "3) O(n*m) for this following fragment of code"
   ]
  },
  {
   "cell_type": "code",
   "execution_count": null,
   "id": "4d81ae4e",
   "metadata": {},
   "outputs": [],
   "source": [
    "for i in range(n): \n",
    "    for j in range(m):"
   ]
  }
 ],
 "metadata": {
  "kernelspec": {
   "display_name": "Python 3 (ipykernel)",
   "language": "python",
   "name": "python3"
  },
  "language_info": {
   "codemirror_mode": {
    "name": "ipython",
    "version": 3
   },
   "file_extension": ".py",
   "mimetype": "text/x-python",
   "name": "python",
   "nbconvert_exporter": "python",
   "pygments_lexer": "ipython3",
   "version": "3.9.12"
  }
 },
 "nbformat": 4,
 "nbformat_minor": 5
}
